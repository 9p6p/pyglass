{
 "cells": [
  {
   "cell_type": "code",
   "execution_count": 2,
   "metadata": {},
   "outputs": [],
   "source": [
    "import glassppy as glass\n",
    "from ann_dataset import dataset_dict"
   ]
  },
  {
   "cell_type": "code",
   "execution_count": 3,
   "metadata": {},
   "outputs": [
    {
     "name": "stdout",
     "output_type": "stream",
     "text": [
      "n = 1000000, d = 128, nq = 10000, metric = L2\n",
      "dataset size = 488.28MB\n"
     ]
    }
   ],
   "source": [
    "topk = 10\n",
    "dataset = dataset_dict['sift-128-euclidean']()\n",
    "X_train = dataset.get_database()\n",
    "X_test = dataset.get_queries()\n",
    "Y = dataset.get_groundtruth(topk)\n",
    "n, d = X_train.shape\n",
    "nq, d = X_test.shape\n",
    "metric = dataset.metric\n",
    "print(f\"n = {n}, d = {d}, nq = {nq}, metric = {metric}\")\n",
    "print(f\"dataset size = {n * d * 4 / 1024 / 1024:.2f}MB\")\n"
   ]
  },
  {
   "cell_type": "code",
   "execution_count": 4,
   "metadata": {},
   "outputs": [
    {
     "name": "stdout",
     "output_type": "stream",
     "text": [
      "HNSW building progress: [10000/1000000]\n",
      "HNSW building progress: [20000/1000000]\n",
      "HNSW building progress: [30000/1000000]\n",
      "HNSW building progress: [40000/1000000]\n",
      "HNSW building progress: [50000/1000000]\n",
      "HNSW building progress: [60000/1000000]\n",
      "HNSW building progress: [70000/1000000]\n",
      "HNSW building progress: [80000/1000000]\n",
      "HNSW building progress: [90000/1000000]\n",
      "HNSW building progress: [100000/1000000]\n",
      "HNSW building progress: [110000/1000000]\n",
      "HNSW building progress: [120000/1000000]\n",
      "HNSW building progress: [130000/1000000]\n",
      "HNSW building progress: [140000/1000000]\n",
      "HNSW building progress: [150000/1000000]\n",
      "HNSW building progress: [160000/1000000]\n",
      "HNSW building progress: [170000/1000000]\n",
      "HNSW building progress: [180000/1000000]\n",
      "HNSW building progress: [190000/1000000]\n",
      "HNSW building progress: [200000/1000000]\n",
      "HNSW building progress: [210000/1000000]\n",
      "HNSW building progress: [220000/1000000]\n",
      "HNSW building progress: [230000/1000000]\n",
      "HNSW building progress: [240000/1000000]\n",
      "HNSW building progress: [250000/1000000]\n",
      "HNSW building progress: [260000/1000000]\n",
      "HNSW building progress: [270000/1000000]\n",
      "HNSW building progress: [280000/1000000]\n",
      "HNSW building progress: [290000/1000000]\n",
      "HNSW building progress: [300000/1000000]\n",
      "HNSW building progress: [310000/1000000]\n",
      "HNSW building progress: [320000/1000000]\n",
      "HNSW building progress: [330000/1000000]\n",
      "HNSW building progress: [340000/1000000]\n",
      "HNSW building progress: [350000/1000000]\n",
      "HNSW building progress: [360000/1000000]\n",
      "HNSW building progress: [370000/1000000]\n",
      "HNSW building progress: [380000/1000000]\n",
      "HNSW building progress: [390000/1000000]\n",
      "HNSW building progress: [400000/1000000]\n",
      "HNSW building progress: [410000/1000000]\n",
      "HNSW building progress: [420000/1000000]\n",
      "HNSW building progress: [430000/1000000]\n",
      "HNSW building progress: [440000/1000000]\n",
      "HNSW building progress: [450000/1000000]\n",
      "HNSW building progress: [460000/1000000]\n",
      "HNSW building progress: [470000/1000000]\n",
      "HNSW building progress: [480000/1000000]\n",
      "HNSW building progress: [490000/1000000]\n",
      "HNSW building progress: [500000/1000000]\n",
      "HNSW building progress: [510000/1000000]\n",
      "HNSW building progress: [520000/1000000]\n",
      "HNSW building progress: [530000/1000000]\n",
      "HNSW building progress: [540000/1000000]\n",
      "HNSW building progress: [550000/1000000]\n",
      "HNSW building progress: [560000/1000000]\n",
      "HNSW building progress: [570000/1000000]\n",
      "HNSW building progress: [580000/1000000]\n",
      "HNSW building progress: [590000/1000000]\n",
      "HNSW building progress: [600000/1000000]\n",
      "HNSW building progress: [610000/1000000]\n",
      "HNSW building progress: [620000/1000000]\n",
      "HNSW building progress: [630000/1000000]\n",
      "HNSW building progress: [640000/1000000]\n",
      "HNSW building progress: [650000/1000000]\n",
      "HNSW building progress: [660000/1000000]\n",
      "HNSW building progress: [670000/1000000]\n",
      "HNSW building progress: [680000/1000000]\n",
      "HNSW building progress: [690000/1000000]\n",
      "HNSW building progress: [700000/1000000]\n",
      "HNSW building progress: [710000/1000000]\n",
      "HNSW building progress: [720000/1000000]\n",
      "HNSW building progress: [730000/1000000]\n",
      "HNSW building progress: [740000/1000000]\n",
      "HNSW building progress: [750000/1000000]\n",
      "HNSW building progress: [760000/1000000]\n",
      "HNSW building progress: [770000/1000000]\n",
      "HNSW building progress: [780000/1000000]\n",
      "HNSW building progress: [790000/1000000]\n",
      "HNSW building progress: [800000/1000000]\n",
      "HNSW building progress: [810000/1000000]\n",
      "HNSW building progress: [820000/1000000]\n",
      "HNSW building progress: [830000/1000000]\n",
      "HNSW building progress: [840000/1000000]\n",
      "HNSW building progress: [850000/1000000]\n",
      "HNSW building progress: [860000/1000000]\n",
      "HNSW building progress: [870000/1000000]\n",
      "HNSW building progress: [880000/1000000]\n",
      "HNSW building progress: [890000/1000000]\n",
      "HNSW building progress: [900000/1000000]\n",
      "HNSW building progress: [910000/1000000]\n",
      "HNSW building progress: [920000/1000000]\n",
      "HNSW building progress: [930000/1000000]\n",
      "HNSW building progress: [940000/1000000]\n",
      "HNSW building progress: [950000/1000000]\n",
      "HNSW building progress: [960000/1000000]\n",
      "HNSW building progress: [970000/1000000]\n",
      "HNSW building progress: [980000/1000000]\n",
      "HNSW building progress: [990000/1000000]\n",
      "HNSW building cost: 238.73s\n"
     ]
    }
   ],
   "source": [
    "index = glass.Index(index_type=\"HNSW\", dim=d, metric=metric, R=32, L=100)\n",
    "g = index.build(X_train)\n"
   ]
  },
  {
   "cell_type": "code",
   "execution_count": 5,
   "metadata": {},
   "outputs": [],
   "source": [
    "s = glass.Searcher(graph=g, data=X_train, metric=metric, level=2)\n",
    "s.set_ef(36)\n"
   ]
  },
  {
   "cell_type": "code",
   "execution_count": 6,
   "metadata": {},
   "outputs": [
    {
     "name": "stdout",
     "output_type": "stream",
     "text": [
      "Recall = 88.37%\n"
     ]
    }
   ],
   "source": [
    "from os import cpu_count\n",
    "from time import time\n",
    "num_threads = cpu_count()\n",
    "\n",
    "pred = s.batch_search(query=X_test, k=topk, num_threads=num_threads).reshape(-1, topk)\n",
    "recall = dataset.evaluate(pred, topk)\n",
    "print(f\"Recall = {recall * 100:.2f}%\")\n"
   ]
  },
  {
   "cell_type": "code",
   "execution_count": 7,
   "metadata": {},
   "outputs": [
    {
     "name": "stdout",
     "output_type": "stream",
     "text": [
      "QPS = 197072.97\n",
      "QPS = 198389.16\n",
      "QPS = 198021.07\n",
      "QPS = 199365.16\n",
      "QPS = 196234.85\n",
      "QPS = 199550.12\n",
      "QPS = 195261.91\n",
      "QPS = 164557.37\n",
      "QPS = 195089.35\n",
      "QPS = 200644.08\n"
     ]
    }
   ],
   "source": [
    "s.batch_search(query=X_test, k=topk, num_threads=num_threads)  # warmup\n",
    "for iter in range(10):\n",
    "    t1 = time()\n",
    "    pred = s.batch_search(query=X_test, k=topk, num_threads=num_threads)\n",
    "    t2 = time()\n",
    "    print(f\"QPS = {nq / (t2 - t1):.2f}\")\n"
   ]
  },
  {
   "cell_type": "code",
   "execution_count": 8,
   "metadata": {},
   "outputs": [
    {
     "name": "stdout",
     "output_type": "stream",
     "text": [
      "=============Start optimization=============\n",
      "settint best po = 10, best pl = 1\n",
      "gaining 29.41% performance improvement\n",
      "=============Done optimization=============\n"
     ]
    }
   ],
   "source": [
    "s.optimize()\n"
   ]
  },
  {
   "cell_type": "code",
   "execution_count": 9,
   "metadata": {},
   "outputs": [
    {
     "name": "stdout",
     "output_type": "stream",
     "text": [
      "QPS = 263056.47715513187\n",
      "QPS = 263340.5536406045\n",
      "QPS = 263789.3862970277\n",
      "QPS = 262990.5006740446\n",
      "QPS = 263401.7433243739\n",
      "QPS = 260189.3276758353\n",
      "QPS = 261101.22697476952\n",
      "QPS = 260436.51311091657\n",
      "QPS = 263138.9943222811\n",
      "QPS = 242281.46282571903\n"
     ]
    }
   ],
   "source": [
    "s.batch_search(query=X_test, k=topk, num_threads=num_threads)  # warmup\n",
    "for iter in range(10):\n",
    "    t1 = time()\n",
    "    pred = s.batch_search(query=X_test, k=topk,\n",
    "                          num_threads=num_threads).reshape(-1, topk)\n",
    "    t2 = time()\n",
    "    print(f\"QPS = {nq / (t2 - t1)}\")\n"
   ]
  }
 ],
 "metadata": {
  "kernelspec": {
   "display_name": "hy",
   "language": "python",
   "name": "python3"
  },
  "language_info": {
   "codemirror_mode": {
    "name": "ipython",
    "version": 3
   },
   "file_extension": ".py",
   "mimetype": "text/x-python",
   "name": "python",
   "nbconvert_exporter": "python",
   "pygments_lexer": "ipython3",
   "version": "3.13.1"
  },
  "orig_nbformat": 4
 },
 "nbformat": 4,
 "nbformat_minor": 2
}
